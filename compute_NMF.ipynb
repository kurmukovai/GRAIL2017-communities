{
 "cells": [
  {
   "cell_type": "code",
   "execution_count": null,
   "metadata": {
    "collapsed": true
   },
   "outputs": [],
   "source": [
    "# Here are computing NMF decomposition for AD vs NC task"
   ]
  },
  {
   "cell_type": "code",
   "execution_count": 1,
   "metadata": {
    "collapsed": true
   },
   "outputs": [],
   "source": [
    "import numpy as np\n",
    "import pandas as pd\n",
    "from sklearn.decomposition import NMF\n",
    "import pickle\n",
    "from load_ADNI import load_ADNI, convert"
   ]
  },
  {
   "cell_type": "code",
   "execution_count": 2,
   "metadata": {},
   "outputs": [
    {
     "name": "stdout",
     "output_type": "stream",
     "text": [
      "ADNI data shape                   : (807, 68, 68) \n",
      "ADNI target variable shape        : (807,) \n",
      "ADNI number of unique patients    : (255,)\n"
     ]
    }
   ],
   "source": [
    "path = '/nmnt/media/home/anvar/conferences_code/MICCAI2017/reproducing_overlappingMICCAI/data'\n",
    "_, _, info = load_ADNI(path)"
   ]
  },
  {
   "cell_type": "markdown",
   "metadata": {},
   "source": [
    "\n",
    "Little preprocessing\n",
    "- binarizing\n",
    "- zerod diagonals\n",
    "- selecting only AD and Normal phenotypes\n",
    "- creating appropriate target vector and groups vector"
   ]
  },
  {
   "cell_type": "code",
   "execution_count": 6,
   "metadata": {
    "collapsed": true
   },
   "outputs": [],
   "source": [
    "data = pd.concat([info[info.target == 'AD'], info[info.target == 'Normal']])\n",
    "data = data.sort_values(['target', 'subject_id', 'scan_id'],)"
   ]
  },
  {
   "cell_type": "code",
   "execution_count": 7,
   "metadata": {},
   "outputs": [
    {
     "data": {
      "text/html": [
       "<div>\n",
       "<style>\n",
       "    .dataframe thead tr:only-child th {\n",
       "        text-align: right;\n",
       "    }\n",
       "\n",
       "    .dataframe thead th {\n",
       "        text-align: left;\n",
       "    }\n",
       "\n",
       "    .dataframe tbody tr th {\n",
       "        vertical-align: top;\n",
       "    }\n",
       "</style>\n",
       "<table border=\"1\" class=\"dataframe\">\n",
       "  <thead>\n",
       "    <tr style=\"text-align: right;\">\n",
       "      <th></th>\n",
       "      <th>subject_id_file</th>\n",
       "      <th>subject_id</th>\n",
       "      <th>scan_id</th>\n",
       "      <th>matrix</th>\n",
       "      <th>target</th>\n",
       "    </tr>\n",
       "    <tr>\n",
       "      <th>subject_id_file</th>\n",
       "      <th></th>\n",
       "      <th></th>\n",
       "      <th></th>\n",
       "      <th></th>\n",
       "      <th></th>\n",
       "    </tr>\n",
       "  </thead>\n",
       "  <tbody>\n",
       "    <tr>\n",
       "      <th>003_S_4136_1</th>\n",
       "      <td>003_S_4136_1</td>\n",
       "      <td>003_S_4136</td>\n",
       "      <td>1</td>\n",
       "      <td>[2618.0, 7.0, 68.0, 14.0, 3.0, 73.0, 1303.0, 4...</td>\n",
       "      <td>AD</td>\n",
       "    </tr>\n",
       "    <tr>\n",
       "      <th>003_S_4136_2</th>\n",
       "      <td>003_S_4136_2</td>\n",
       "      <td>003_S_4136</td>\n",
       "      <td>2</td>\n",
       "      <td>[3620.0, 36.0, 50.0, 30.0, 9.0, 93.0, 1683.0, ...</td>\n",
       "      <td>AD</td>\n",
       "    </tr>\n",
       "    <tr>\n",
       "      <th>003_S_4136_3</th>\n",
       "      <td>003_S_4136_3</td>\n",
       "      <td>003_S_4136</td>\n",
       "      <td>3</td>\n",
       "      <td>[3004.0, 3.0, 228.0, 3.0, 20.0, 120.0, 1741.0,...</td>\n",
       "      <td>AD</td>\n",
       "    </tr>\n",
       "    <tr>\n",
       "      <th>003_S_4136_4</th>\n",
       "      <td>003_S_4136_4</td>\n",
       "      <td>003_S_4136</td>\n",
       "      <td>4</td>\n",
       "      <td>[3203.0, 0.0, 45.0, 19.0, 0.0, 115.0, 1683.0, ...</td>\n",
       "      <td>AD</td>\n",
       "    </tr>\n",
       "    <tr>\n",
       "      <th>003_S_4142_1</th>\n",
       "      <td>003_S_4142_1</td>\n",
       "      <td>003_S_4142</td>\n",
       "      <td>1</td>\n",
       "      <td>[2450.0, 0.0, 401.0, 0.0, 0.0, 9.0, 1536.0, 93...</td>\n",
       "      <td>AD</td>\n",
       "    </tr>\n",
       "  </tbody>\n",
       "</table>\n",
       "</div>"
      ],
      "text/plain": [
       "                subject_id_file  subject_id scan_id  \\\n",
       "subject_id_file                                       \n",
       "003_S_4136_1       003_S_4136_1  003_S_4136       1   \n",
       "003_S_4136_2       003_S_4136_2  003_S_4136       2   \n",
       "003_S_4136_3       003_S_4136_3  003_S_4136       3   \n",
       "003_S_4136_4       003_S_4136_4  003_S_4136       4   \n",
       "003_S_4142_1       003_S_4142_1  003_S_4142       1   \n",
       "\n",
       "                                                            matrix target  \n",
       "subject_id_file                                                            \n",
       "003_S_4136_1     [2618.0, 7.0, 68.0, 14.0, 3.0, 73.0, 1303.0, 4...     AD  \n",
       "003_S_4136_2     [3620.0, 36.0, 50.0, 30.0, 9.0, 93.0, 1683.0, ...     AD  \n",
       "003_S_4136_3     [3004.0, 3.0, 228.0, 3.0, 20.0, 120.0, 1741.0,...     AD  \n",
       "003_S_4136_4     [3203.0, 0.0, 45.0, 19.0, 0.0, 115.0, 1683.0, ...     AD  \n",
       "003_S_4142_1     [2450.0, 0.0, 401.0, 0.0, 0.0, 9.0, 1536.0, 93...     AD  "
      ]
     },
     "execution_count": 7,
     "metadata": {},
     "output_type": "execute_result"
    }
   ],
   "source": [
    "data.head()"
   ]
  },
  {
   "cell_type": "code",
   "execution_count": 8,
   "metadata": {},
   "outputs": [
    {
     "data": {
      "text/html": [
       "<div>\n",
       "<style>\n",
       "    .dataframe thead tr:only-child th {\n",
       "        text-align: right;\n",
       "    }\n",
       "\n",
       "    .dataframe thead th {\n",
       "        text-align: left;\n",
       "    }\n",
       "\n",
       "    .dataframe tbody tr th {\n",
       "        vertical-align: top;\n",
       "    }\n",
       "</style>\n",
       "<table border=\"1\" class=\"dataframe\">\n",
       "  <thead>\n",
       "    <tr style=\"text-align: right;\">\n",
       "      <th></th>\n",
       "      <th>subject_id_file</th>\n",
       "      <th>subject_id</th>\n",
       "      <th>scan_id</th>\n",
       "      <th>matrix</th>\n",
       "    </tr>\n",
       "    <tr>\n",
       "      <th>target</th>\n",
       "      <th></th>\n",
       "      <th></th>\n",
       "      <th></th>\n",
       "      <th></th>\n",
       "    </tr>\n",
       "  </thead>\n",
       "  <tbody>\n",
       "    <tr>\n",
       "      <th>AD</th>\n",
       "      <td>136</td>\n",
       "      <td>136</td>\n",
       "      <td>136</td>\n",
       "      <td>136</td>\n",
       "    </tr>\n",
       "    <tr>\n",
       "      <th>Normal</th>\n",
       "      <td>190</td>\n",
       "      <td>190</td>\n",
       "      <td>190</td>\n",
       "      <td>190</td>\n",
       "    </tr>\n",
       "  </tbody>\n",
       "</table>\n",
       "</div>"
      ],
      "text/plain": [
       "        subject_id_file  subject_id  scan_id  matrix\n",
       "target                                              \n",
       "AD                  136         136      136     136\n",
       "Normal              190         190      190     190"
      ]
     },
     "execution_count": 8,
     "metadata": {},
     "output_type": "execute_result"
    }
   ],
   "source": [
    "data.groupby('target').count()\n",
    "\n",
    "# 136 AD,  190 Normal, total of 326 scans/connectomes\n",
    "# 108 unique subjects"
   ]
  },
  {
   "cell_type": "code",
   "execution_count": 9,
   "metadata": {},
   "outputs": [
    {
     "data": {
      "text/plain": [
       "(108, 5)"
      ]
     },
     "execution_count": 9,
     "metadata": {},
     "output_type": "execute_result"
    }
   ],
   "source": [
    "data.drop_duplicates('subject_id').shape"
   ]
  },
  {
   "cell_type": "code",
   "execution_count": 10,
   "metadata": {
    "collapsed": true
   },
   "outputs": [],
   "source": [
    "matrices = np.zeros((326, 68, 68))\n",
    "for i in range(326):\n",
    "    matrices[i] = convert(data.matrix[i], diag=0)"
   ]
  },
  {
   "cell_type": "code",
   "execution_count": 17,
   "metadata": {
    "collapsed": true
   },
   "outputs": [],
   "source": [
    "# encode target \n",
    "target = data.target.map({'AD':0, 'EMCI':1, 'LMCI':2, 'Normal':3}).values\n",
    "\n",
    "# encode subjects\n",
    "sub_dict = dict(zip(np.unique(data.subject_id.values), np.arange(108)))\n",
    "subjects = data.subject_id.map(sub_dict).values\n",
    "\n",
    "# binarizing matrices\n",
    "matrices[matrices>0] = 1"
   ]
  },
  {
   "cell_type": "code",
   "execution_count": 20,
   "metadata": {},
   "outputs": [
    {
     "name": "stderr",
     "output_type": "stream",
     "text": [
      "/nmnt/media/home/anvar/anaconda/lib/python3.6/site-packages/ipykernel_launcher.py:9: RuntimeWarning: invalid value encountered in true_divide\n",
      "  if __name__ == '__main__':\n",
      "/nmnt/media/home/anvar/anaconda/lib/python3.6/site-packages/ipykernel_launcher.py:12: RuntimeWarning: invalid value encountered in greater\n",
      "  if sys.path[0] == '':\n"
     ]
    }
   ],
   "source": [
    "# Computing NMF decomposition\n",
    "\n",
    "results = {}\n",
    "results_full = {}\n",
    "for n_clusters in range(2, 15):\n",
    "    single_n = np.zeros((8, 326, n_clusters, 68))\n",
    "    single_n_full = np.zeros((326, n_clusters, 68))\n",
    "    for idx, mat in enumerate(matrices):\n",
    "        nmf = NMF(n_components = n_clusters, random_state=1)\n",
    "        W = nmf.fit_transform(mat)\n",
    "        H = nmf.components_ / nmf.components_.sum(axis = 0)\n",
    "        single_n_full[idx, :, :] = H\n",
    "        for j, thresh in enumerate([.05, .10, .15, .20, .25, .30, .35, .40]):\n",
    "            _H = np.where(H > thresh, 1, 0)\n",
    "            single_n[j, idx, :, :] = _H\n",
    "    results[n_clusters] = single_n\n",
    "    results_full[n_clusters] = single_n_full"
   ]
  },
  {
   "cell_type": "code",
   "execution_count": 24,
   "metadata": {},
   "outputs": [
    {
     "data": {
      "text/plain": [
       "(326, 2, 68)"
      ]
     },
     "execution_count": 24,
     "metadata": {},
     "output_type": "execute_result"
    }
   ],
   "source": [
    "results_full[2].shape # <---- this contains 326 matrices of size 2 x 68, before thresholding"
   ]
  },
  {
   "cell_type": "code",
   "execution_count": 29,
   "metadata": {
    "scrolled": true
   },
   "outputs": [
    {
     "data": {
      "text/plain": [
       "array([[ 0.81972294,  0.18027706],\n",
       "       [ 1.        ,  0.        ],\n",
       "       [ 1.        ,  0.        ],\n",
       "       [ 0.61411749,  0.38588251],\n",
       "       [ 1.        ,  0.        ],\n",
       "       [ 0.9523918 ,  0.0476082 ],\n",
       "       [ 0.75073357,  0.24926643],\n",
       "       [ 0.8728751 ,  0.1271249 ],\n",
       "       [ 0.78497572,  0.21502428],\n",
       "       [ 0.93468836,  0.06531164],\n",
       "       [ 0.91268785,  0.08731215],\n",
       "       [ 0.72261117,  0.27738883],\n",
       "       [ 0.75559643,  0.24440357],\n",
       "       [ 0.87244462,  0.12755538],\n",
       "       [ 1.        ,  0.        ],\n",
       "       [ 0.76384522,  0.23615478],\n",
       "       [ 1.        ,  0.        ],\n",
       "       [ 0.8544608 ,  0.1455392 ],\n",
       "       [ 0.82626225,  0.17373775],\n",
       "       [ 0.69017051,  0.30982949],\n",
       "       [ 1.        ,  0.        ],\n",
       "       [ 0.77160942,  0.22839058],\n",
       "       [ 1.        ,  0.        ],\n",
       "       [ 0.72287456,  0.27712544],\n",
       "       [ 0.9003915 ,  0.0996085 ],\n",
       "       [ 0.72238749,  0.27761251],\n",
       "       [ 0.58422421,  0.41577579],\n",
       "       [ 0.81493427,  0.18506573],\n",
       "       [ 0.75153099,  0.24846901],\n",
       "       [ 0.91492784,  0.08507216],\n",
       "       [ 0.67359486,  0.32640514],\n",
       "       [ 1.        ,  0.        ],\n",
       "       [ 0.90607548,  0.09392452],\n",
       "       [ 0.79965643,  0.20034357],\n",
       "       [ 0.        ,  1.        ],\n",
       "       [ 0.4602481 ,  0.5397519 ],\n",
       "       [ 0.        ,  1.        ],\n",
       "       [ 0.4132168 ,  0.5867832 ],\n",
       "       [ 0.06248012,  0.93751988],\n",
       "       [ 0.43120438,  0.56879562],\n",
       "       [ 0.23389838,  0.76610162],\n",
       "       [ 0.4228817 ,  0.5771183 ],\n",
       "       [ 0.52023264,  0.47976736],\n",
       "       [ 0.41697927,  0.58302073],\n",
       "       [ 0.46034112,  0.53965888],\n",
       "       [ 0.53827454,  0.46172546],\n",
       "       [ 0.58016675,  0.41983325],\n",
       "       [ 0.46095246,  0.53904754],\n",
       "       [ 0.54754237,  0.45245763],\n",
       "       [ 0.36584161,  0.63415839],\n",
       "       [ 0.        ,  1.        ],\n",
       "       [ 0.22833119,  0.77166881],\n",
       "       [ 0.03685177,  0.96314823],\n",
       "       [ 0.43883956,  0.56116044],\n",
       "       [ 0.        ,  1.        ],\n",
       "       [ 0.4331134 ,  0.5668866 ],\n",
       "       [ 0.        ,  1.        ],\n",
       "       [ 0.49651682,  0.50348318],\n",
       "       [ 0.5576542 ,  0.4423458 ],\n",
       "       [ 0.41510704,  0.58489296],\n",
       "       [ 0.49243142,  0.50756858],\n",
       "       [ 0.18174819,  0.81825181],\n",
       "       [ 0.46541229,  0.53458771],\n",
       "       [ 0.        ,  1.        ],\n",
       "       [ 0.58016675,  0.41983325],\n",
       "       [ 0.15091168,  0.84908832],\n",
       "       [ 0.        ,  1.        ],\n",
       "       [ 0.4907164 ,  0.5092836 ]])"
      ]
     },
     "execution_count": 29,
     "metadata": {},
     "output_type": "execute_result"
    }
   ],
   "source": [
    "results_full[2][0].T # We have 68 nodes/vertices and two clusters, each column sums to 1\n",
    "# i'th column has 2 elements, first element is strength of node i belongs to cluster 1,\n",
    "# second element - strength of node i belongs to cluster 2"
   ]
  },
  {
   "cell_type": "code",
   "execution_count": 34,
   "metadata": {},
   "outputs": [
    {
     "data": {
      "text/plain": [
       "(8, 326, 2, 68)"
      ]
     },
     "execution_count": 34,
     "metadata": {},
     "output_type": "execute_result"
    }
   ],
   "source": [
    "results[2].shape # <---- this contains 326 matrices of size 2 x 68, after thresholding"
   ]
  },
  {
   "cell_type": "code",
   "execution_count": 42,
   "metadata": {
    "scrolled": true
   },
   "outputs": [
    {
     "data": {
      "text/plain": [
       "array([[ 1.,  1.],\n",
       "       [ 1.,  0.],\n",
       "       [ 1.,  0.],\n",
       "       [ 1.,  1.],\n",
       "       [ 1.,  0.],\n",
       "       [ 1.,  0.],\n",
       "       [ 1.,  1.],\n",
       "       [ 1.,  1.],\n",
       "       [ 1.,  1.],\n",
       "       [ 1.,  1.],\n",
       "       [ 1.,  1.],\n",
       "       [ 1.,  1.],\n",
       "       [ 1.,  1.],\n",
       "       [ 1.,  1.],\n",
       "       [ 1.,  0.],\n",
       "       [ 1.,  1.],\n",
       "       [ 1.,  0.],\n",
       "       [ 1.,  1.],\n",
       "       [ 1.,  1.],\n",
       "       [ 1.,  1.],\n",
       "       [ 1.,  0.],\n",
       "       [ 1.,  1.],\n",
       "       [ 1.,  0.],\n",
       "       [ 1.,  1.],\n",
       "       [ 1.,  1.],\n",
       "       [ 1.,  1.],\n",
       "       [ 1.,  1.],\n",
       "       [ 1.,  1.],\n",
       "       [ 1.,  1.],\n",
       "       [ 1.,  1.],\n",
       "       [ 1.,  1.],\n",
       "       [ 1.,  0.],\n",
       "       [ 1.,  1.],\n",
       "       [ 1.,  1.],\n",
       "       [ 0.,  1.],\n",
       "       [ 1.,  1.],\n",
       "       [ 0.,  1.],\n",
       "       [ 1.,  1.],\n",
       "       [ 1.,  1.],\n",
       "       [ 1.,  1.],\n",
       "       [ 1.,  1.],\n",
       "       [ 1.,  1.],\n",
       "       [ 1.,  1.],\n",
       "       [ 1.,  1.],\n",
       "       [ 1.,  1.],\n",
       "       [ 1.,  1.],\n",
       "       [ 1.,  1.],\n",
       "       [ 1.,  1.],\n",
       "       [ 1.,  1.],\n",
       "       [ 1.,  1.],\n",
       "       [ 0.,  1.],\n",
       "       [ 1.,  1.],\n",
       "       [ 0.,  1.],\n",
       "       [ 1.,  1.],\n",
       "       [ 0.,  1.],\n",
       "       [ 1.,  1.],\n",
       "       [ 0.,  1.],\n",
       "       [ 1.,  1.],\n",
       "       [ 1.,  1.],\n",
       "       [ 1.,  1.],\n",
       "       [ 1.,  1.],\n",
       "       [ 1.,  1.],\n",
       "       [ 1.,  1.],\n",
       "       [ 0.,  1.],\n",
       "       [ 1.,  1.],\n",
       "       [ 1.,  1.],\n",
       "       [ 0.,  1.],\n",
       "       [ 1.,  1.]])"
      ]
     },
     "execution_count": 42,
     "metadata": {},
     "output_type": "execute_result"
    }
   ],
   "source": [
    "results[2][0][0].T # As we can see sometimes i'th node belongs to both first and second cluster"
   ]
  },
  {
   "cell_type": "code",
   "execution_count": 44,
   "metadata": {
    "collapsed": true
   },
   "outputs": [],
   "source": [
    "triu_grid = np.array(np.triu_indices(326, k = 1)).T\n",
    "thresh = ['05', '10', '15', '20', '25', '30', '35', '40']\n",
    "for n_clusters, group in results.items(): # for all number of clusters\n",
    "    for idx1, partitions in enumerate(group): #  for all thresholds\n",
    "        for idx2, partition in enumerate(partitions): # for all graphs in data\n",
    "            path = 'NMF_results/{}_{}_{}'.format(n_clusters, thresh[idx1], idx2)\n",
    "            f = open(path, 'w')\n",
    "            for n, cluster in enumerate(partition):\n",
    "                belonging_vertices = str(np.argwhere(cluster).flatten())[1:-1].split()\n",
    "                for sym in belonging_vertices:\n",
    "                    try:\n",
    "                        int(sym)\n",
    "                        f.write(sym+' ')\n",
    "                    except:\n",
    "                        pass\n",
    "                if n < n_clusters:\n",
    "                    f.write('\\n')"
   ]
  },
  {
   "cell_type": "code",
   "execution_count": null,
   "metadata": {
    "collapsed": true
   },
   "outputs": [],
   "source": []
  }
 ],
 "metadata": {
  "kernelspec": {
   "display_name": "Python 3",
   "language": "python",
   "name": "python3"
  },
  "language_info": {
   "codemirror_mode": {
    "name": "ipython",
    "version": 3
   },
   "file_extension": ".py",
   "mimetype": "text/x-python",
   "name": "python",
   "nbconvert_exporter": "python",
   "pygments_lexer": "ipython3",
   "version": "3.6.1"
  }
 },
 "nbformat": 4,
 "nbformat_minor": 2
}
