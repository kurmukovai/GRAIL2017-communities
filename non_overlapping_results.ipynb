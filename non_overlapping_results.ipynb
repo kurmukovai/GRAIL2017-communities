{
 "cells": [
  {
   "cell_type": "code",
   "execution_count": 1,
   "metadata": {
    "collapsed": true
   },
   "outputs": [],
   "source": [
    "import pandas as pd\n",
    "import numpy as np\n",
    "import networkx as nx\n",
    "import community\n",
    "\n",
    "from sklearn.preprocessing import LabelEncoder\n",
    "\n",
    "from load_ADNI import load_ADNI, convert\n",
    "from model_evaluation import repeatSVM_labeled, grid_search\n",
    "from kernels import compute_AMI, make_exp_kernel"
   ]
  },
  {
   "cell_type": "code",
   "execution_count": 2,
   "metadata": {},
   "outputs": [
    {
     "name": "stdout",
     "output_type": "stream",
     "text": [
      "ADNI data shape                   : (807, 68, 68) \n",
      "ADNI target variable shape        : (807,) \n",
      "ADNI number of unique patients    : (255,)\n"
     ]
    }
   ],
   "source": [
    "path = '/nmnt/media/home/anvar/conferences_code/MICCAI2017/reproducing_overlappingMICCAI/data'\n",
    "_, _, info = load_ADNI(path)"
   ]
  },
  {
   "cell_type": "code",
   "execution_count": 3,
   "metadata": {
    "collapsed": true
   },
   "outputs": [],
   "source": [
    "data = info[info.target != 'SMC']\n",
    "data = data.sort_values(['target', 'subject_id', 'scan_id'],)"
   ]
  },
  {
   "cell_type": "code",
   "execution_count": 4,
   "metadata": {},
   "outputs": [
    {
     "data": {
      "text/html": [
       "<div>\n",
       "<style>\n",
       "    .dataframe thead tr:only-child th {\n",
       "        text-align: right;\n",
       "    }\n",
       "\n",
       "    .dataframe thead th {\n",
       "        text-align: left;\n",
       "    }\n",
       "\n",
       "    .dataframe tbody tr th {\n",
       "        vertical-align: top;\n",
       "    }\n",
       "</style>\n",
       "<table border=\"1\" class=\"dataframe\">\n",
       "  <thead>\n",
       "    <tr style=\"text-align: right;\">\n",
       "      <th></th>\n",
       "      <th>subject_id_file</th>\n",
       "      <th>subject_id</th>\n",
       "      <th>scan_id</th>\n",
       "      <th>matrix</th>\n",
       "      <th>target</th>\n",
       "    </tr>\n",
       "    <tr>\n",
       "      <th>subject_id_file</th>\n",
       "      <th></th>\n",
       "      <th></th>\n",
       "      <th></th>\n",
       "      <th></th>\n",
       "      <th></th>\n",
       "    </tr>\n",
       "  </thead>\n",
       "  <tbody>\n",
       "    <tr>\n",
       "      <th>003_S_4136_1</th>\n",
       "      <td>003_S_4136_1</td>\n",
       "      <td>003_S_4136</td>\n",
       "      <td>1</td>\n",
       "      <td>[2618.0, 7.0, 68.0, 14.0, 3.0, 73.0, 1303.0, 4...</td>\n",
       "      <td>AD</td>\n",
       "    </tr>\n",
       "    <tr>\n",
       "      <th>003_S_4136_2</th>\n",
       "      <td>003_S_4136_2</td>\n",
       "      <td>003_S_4136</td>\n",
       "      <td>2</td>\n",
       "      <td>[3620.0, 36.0, 50.0, 30.0, 9.0, 93.0, 1683.0, ...</td>\n",
       "      <td>AD</td>\n",
       "    </tr>\n",
       "    <tr>\n",
       "      <th>003_S_4136_3</th>\n",
       "      <td>003_S_4136_3</td>\n",
       "      <td>003_S_4136</td>\n",
       "      <td>3</td>\n",
       "      <td>[3004.0, 3.0, 228.0, 3.0, 20.0, 120.0, 1741.0,...</td>\n",
       "      <td>AD</td>\n",
       "    </tr>\n",
       "    <tr>\n",
       "      <th>003_S_4136_4</th>\n",
       "      <td>003_S_4136_4</td>\n",
       "      <td>003_S_4136</td>\n",
       "      <td>4</td>\n",
       "      <td>[3203.0, 0.0, 45.0, 19.0, 0.0, 115.0, 1683.0, ...</td>\n",
       "      <td>AD</td>\n",
       "    </tr>\n",
       "    <tr>\n",
       "      <th>003_S_4142_1</th>\n",
       "      <td>003_S_4142_1</td>\n",
       "      <td>003_S_4142</td>\n",
       "      <td>1</td>\n",
       "      <td>[2450.0, 0.0, 401.0, 0.0, 0.0, 9.0, 1536.0, 93...</td>\n",
       "      <td>AD</td>\n",
       "    </tr>\n",
       "  </tbody>\n",
       "</table>\n",
       "</div>"
      ],
      "text/plain": [
       "                subject_id_file  subject_id scan_id  \\\n",
       "subject_id_file                                       \n",
       "003_S_4136_1       003_S_4136_1  003_S_4136       1   \n",
       "003_S_4136_2       003_S_4136_2  003_S_4136       2   \n",
       "003_S_4136_3       003_S_4136_3  003_S_4136       3   \n",
       "003_S_4136_4       003_S_4136_4  003_S_4136       4   \n",
       "003_S_4142_1       003_S_4142_1  003_S_4142       1   \n",
       "\n",
       "                                                            matrix target  \n",
       "subject_id_file                                                            \n",
       "003_S_4136_1     [2618.0, 7.0, 68.0, 14.0, 3.0, 73.0, 1303.0, 4...     AD  \n",
       "003_S_4136_2     [3620.0, 36.0, 50.0, 30.0, 9.0, 93.0, 1683.0, ...     AD  \n",
       "003_S_4136_3     [3004.0, 3.0, 228.0, 3.0, 20.0, 120.0, 1741.0,...     AD  \n",
       "003_S_4136_4     [3203.0, 0.0, 45.0, 19.0, 0.0, 115.0, 1683.0, ...     AD  \n",
       "003_S_4142_1     [2450.0, 0.0, 401.0, 0.0, 0.0, 9.0, 1536.0, 93...     AD  "
      ]
     },
     "execution_count": 4,
     "metadata": {},
     "output_type": "execute_result"
    }
   ],
   "source": [
    "data.head()"
   ]
  },
  {
   "cell_type": "code",
   "execution_count": 5,
   "metadata": {},
   "outputs": [
    {
     "data": {
      "text/html": [
       "<div>\n",
       "<style>\n",
       "    .dataframe thead tr:only-child th {\n",
       "        text-align: right;\n",
       "    }\n",
       "\n",
       "    .dataframe thead th {\n",
       "        text-align: left;\n",
       "    }\n",
       "\n",
       "    .dataframe tbody tr th {\n",
       "        vertical-align: top;\n",
       "    }\n",
       "</style>\n",
       "<table border=\"1\" class=\"dataframe\">\n",
       "  <thead>\n",
       "    <tr style=\"text-align: right;\">\n",
       "      <th></th>\n",
       "      <th>subject_id_file</th>\n",
       "      <th>subject_id</th>\n",
       "      <th>scan_id</th>\n",
       "      <th>matrix</th>\n",
       "    </tr>\n",
       "    <tr>\n",
       "      <th>target</th>\n",
       "      <th></th>\n",
       "      <th></th>\n",
       "      <th></th>\n",
       "      <th></th>\n",
       "    </tr>\n",
       "  </thead>\n",
       "  <tbody>\n",
       "    <tr>\n",
       "      <th>AD</th>\n",
       "      <td>136</td>\n",
       "      <td>136</td>\n",
       "      <td>136</td>\n",
       "      <td>136</td>\n",
       "    </tr>\n",
       "    <tr>\n",
       "      <th>EMCI</th>\n",
       "      <td>283</td>\n",
       "      <td>283</td>\n",
       "      <td>283</td>\n",
       "      <td>283</td>\n",
       "    </tr>\n",
       "    <tr>\n",
       "      <th>LMCI</th>\n",
       "      <td>147</td>\n",
       "      <td>147</td>\n",
       "      <td>147</td>\n",
       "      <td>147</td>\n",
       "    </tr>\n",
       "    <tr>\n",
       "      <th>Normal</th>\n",
       "      <td>190</td>\n",
       "      <td>190</td>\n",
       "      <td>190</td>\n",
       "      <td>190</td>\n",
       "    </tr>\n",
       "  </tbody>\n",
       "</table>\n",
       "</div>"
      ],
      "text/plain": [
       "        subject_id_file  subject_id  scan_id  matrix\n",
       "target                                              \n",
       "AD                  136         136      136     136\n",
       "EMCI                283         283      283     283\n",
       "LMCI                147         147      147     147\n",
       "Normal              190         190      190     190"
      ]
     },
     "execution_count": 5,
     "metadata": {},
     "output_type": "execute_result"
    }
   ],
   "source": [
    "data.groupby('target').count()\n",
    "\n",
    "# 136 AD, 283 EMCI, 147 LMCI, 190 Normal, total of 756 scans/connectomes\n",
    "# 228 unique subjects"
   ]
  },
  {
   "cell_type": "code",
   "execution_count": 6,
   "metadata": {},
   "outputs": [
    {
     "data": {
      "text/plain": [
       "(228, 5)"
      ]
     },
     "execution_count": 6,
     "metadata": {},
     "output_type": "execute_result"
    }
   ],
   "source": [
    "data.drop_duplicates('subject_id').shape"
   ]
  },
  {
   "cell_type": "code",
   "execution_count": 7,
   "metadata": {
    "collapsed": true
   },
   "outputs": [],
   "source": [
    "matrices = np.zeros((756, 68, 68))\n",
    "for i in range(756):\n",
    "    matrices[i] = convert(data.matrix[i], diag=0)"
   ]
  },
  {
   "cell_type": "code",
   "execution_count": 8,
   "metadata": {},
   "outputs": [],
   "source": [
    "# encode target \n",
    "target = data.target.map({'AD':0, 'EMCI':1, 'LMCI':2, 'Normal':3}).values\n",
    "\n",
    "# encode subjects\n",
    "sub_dict = dict(zip(np.unique(data.subject_id.values), np.arange(228)))\n",
    "subjects = data.subject_id.map(sub_dict).values\n",
    "\n",
    "# binarizing matrices\n",
    "matrices[matrices>0] = 1"
   ]
  },
  {
   "cell_type": "code",
   "execution_count": 9,
   "metadata": {
    "collapsed": true
   },
   "outputs": [],
   "source": [
    "# def CommunityLouvian(data):\n",
    "\n",
    "#     part_all = []\n",
    "\n",
    "#     for idx, mat in enumerate(data):\n",
    "#         g = nx.Graph(mat)\n",
    "#         partition = community.best_partition(g)\n",
    "#         part_all.append(list(partition.values()))\n",
    "\n",
    "#     part_all = np.array(part_all)\n",
    "\n",
    "#     return part_all\n",
    "# partitions = CommunityLouvian(matrices)\n",
    "# non_overlapping_kernel = compute_AMI(partitions)\n",
    "# np.save('precomputed_kernels/non_overlapping_kernel.npy', non_overlapping_kernel)\n",
    "\n",
    "kernel = np.load('precomputed_kernels/non_overlapping_kernel.npy')"
   ]
  },
  {
   "cell_type": "code",
   "execution_count": 11,
   "metadata": {},
   "outputs": [
    {
     "name": "stdout",
     "output_type": "stream",
     "text": [
      "Done 92.155 sec\n",
      "AD vs NC : 0.8156539937216603\n",
      "{'Kernel Parameter': 0.3, 'SVC Parameter': 10.0}\n"
     ]
    }
   ],
   "source": [
    "# Choosing model parameters\n",
    "\n",
    "idx_ad_nc = (data.target == 'AD').values + (data.target == 'Normal').values\n",
    "\n",
    "train_auc_mean, train_auc_std, best_params, i, j = grid_search(kernel, target, subjects,\n",
    "                                                               idx_ad_nc, kernel = 'exp')\n",
    "print('AD vs NC : {}'.format(train_auc_mean[i,j]))\n",
    "print(best_params)\n",
    "\n"
   ]
  },
  {
   "cell_type": "code",
   "execution_count": 17,
   "metadata": {},
   "outputs": [
    {
     "name": "stdout",
     "output_type": "stream",
     "text": [
      "AD vs NC : 0.8156539937216603 +- 0.012743110835321265\n"
     ]
    }
   ],
   "source": [
    "# idx_ad_nc = (data.target == 'AD').values + (data.target == 'Normal').values\n",
    "\n",
    "# kernel_ami = make_exp_kernel(kernel[idx_ad_nc, :][:, idx_ad_nc], 0.3)\n",
    "\n",
    "\n",
    "# auc = repeatSVM_labeled(kernel_ami, target, subjects, \n",
    "#                         idx_ad_nc, penalty = 10)\n",
    "\n",
    "# print('AD vs NC : {} +- {}'.format(auc.mean(), auc.std()))"
   ]
  },
  {
   "cell_type": "code",
   "execution_count": 12,
   "metadata": {},
   "outputs": [
    {
     "name": "stdout",
     "output_type": "stream",
     "text": [
      "Done 80.115 sec\n",
      "AD vs NC : 0.6518404255319149\n",
      "{'Kernel Parameter': 8, 'SVC Parameter': 0.10000000000000001}\n"
     ]
    }
   ],
   "source": [
    "idx_ad_lmci = (data.target == 'AD').values + (data.target == 'LMCI').values\n",
    "\n",
    "train_auc_mean, train_auc_std, best_params, i, j = grid_search(kernel, target, subjects,\n",
    "                                                               idx_ad_lmci, kernel = 'exp')\n",
    "print('AD vs LMCI : {}'.format(train_auc_mean[i,j]))\n",
    "print(best_params)"
   ]
  },
  {
   "cell_type": "code",
   "execution_count": 18,
   "metadata": {},
   "outputs": [
    {
     "name": "stdout",
     "output_type": "stream",
     "text": [
      "AD vs LMCI : 0.6518404255319149 +- 0.008703408582831803\n"
     ]
    }
   ],
   "source": [
    "idx_ad_lmci = (data.target == 'AD').values + (data.target == 'LMCI').values\n",
    "\n",
    "kernel_ami = make_exp_kernel(kernel[idx_ad_lmci, :][:, idx_ad_lmci], 8)\n",
    "\n",
    "\n",
    "auc = repeatSVM_labeled(kernel_ami, target, subjects, \n",
    "                        idx_ad_lmci, penalty = 0.1)\n",
    "\n",
    "print('AD vs LMCI : {} +- {}'.format(auc.mean(), auc.std()))"
   ]
  },
  {
   "cell_type": "code",
   "execution_count": null,
   "metadata": {
    "collapsed": true
   },
   "outputs": [],
   "source": []
  },
  {
   "cell_type": "code",
   "execution_count": null,
   "metadata": {
    "collapsed": true
   },
   "outputs": [],
   "source": []
  },
  {
   "cell_type": "code",
   "execution_count": 13,
   "metadata": {},
   "outputs": [
    {
     "name": "stdout",
     "output_type": "stream",
     "text": [
      "Done 127.349 sec\n",
      "AD vs EMCI : 0.6468563829787235\n",
      "{'Kernel Parameter': 0.7, 'SVC Parameter': 10.0}\n"
     ]
    }
   ],
   "source": [
    "\n",
    "\n",
    "idx_ad_emci = (data.target == 'AD').values + (data.target == 'EMCI').values\n",
    "\n",
    "train_auc_mean, train_auc_std, best_params, i, j = grid_search(kernel, target, subjects,\n",
    "                                                               idx_ad_emci, kernel = 'exp')\n",
    "print('AD vs EMCI : {}'.format(train_auc_mean[i,j]))\n",
    "print(best_params)\n",
    "\n"
   ]
  },
  {
   "cell_type": "code",
   "execution_count": null,
   "metadata": {
    "collapsed": true
   },
   "outputs": [],
   "source": []
  },
  {
   "cell_type": "code",
   "execution_count": null,
   "metadata": {},
   "outputs": [],
   "source": [
    "idx_ad_emci = (data.target == 'AD').values + (data.target == 'EMCI').values\n",
    "\n",
    "kernel_ami = make_exp_kernel(kernel[idx_ad_emci, :][:, idx_ad_emci], 0.01)\n",
    "\n",
    "\n",
    "auc = repeatSVM_labeled(kernel_ami, target, subjects, \n",
    "                        idx_ad_emci, penalty = 0.01)\n",
    "\n",
    "print('AD vs EMCI : {} +- {}'.format(auc.mean(), auc.std()))"
   ]
  },
  {
   "cell_type": "code",
   "execution_count": null,
   "metadata": {
    "collapsed": true
   },
   "outputs": [],
   "source": []
  },
  {
   "cell_type": "code",
   "execution_count": null,
   "metadata": {
    "collapsed": true
   },
   "outputs": [],
   "source": []
  },
  {
   "cell_type": "code",
   "execution_count": 14,
   "metadata": {},
   "outputs": [
    {
     "name": "stdout",
     "output_type": "stream",
     "text": [
      "Done 148.314 sec\n",
      "AD vs EMCI : 0.5265375\n",
      "{'Kernel Parameter': 0.9, 'SVC Parameter': 50.0}\n"
     ]
    }
   ],
   "source": [
    "\n",
    "\n",
    "idx_lmci_emci = (data.target == 'LMCI').values + (data.target == 'EMCI').values\n",
    "\n",
    "train_auc_mean, train_auc_std, best_params, i, j = grid_search(kernel, target, subjects,\n",
    "                                                               idx_lmci_emci, kernel = 'exp')\n",
    "print('AD vs EMCI : {}'.format(train_auc_mean[i,j]))\n",
    "print(best_params)\n",
    "\n"
   ]
  },
  {
   "cell_type": "code",
   "execution_count": null,
   "metadata": {
    "collapsed": true
   },
   "outputs": [],
   "source": []
  },
  {
   "cell_type": "code",
   "execution_count": null,
   "metadata": {
    "collapsed": true
   },
   "outputs": [],
   "source": []
  },
  {
   "cell_type": "code",
   "execution_count": null,
   "metadata": {
    "collapsed": true
   },
   "outputs": [],
   "source": []
  },
  {
   "cell_type": "code",
   "execution_count": 17,
   "metadata": {},
   "outputs": [
    {
     "name": "stdout",
     "output_type": "stream",
     "text": [
      "LMCI vs EMCI : 0.45048125000000006 +- 0.027831890010606528\n"
     ]
    }
   ],
   "source": [
    "idx_lmci_emci = (data.target == 'LMCI').values + (data.target == 'EMCI').values\n",
    "\n",
    "kernel_ami = make_exp_kernel(kernel[idx_lmci_emci, :][:, idx_lmci_emci], 0.01)\n",
    "\n",
    "\n",
    "auc = repeatSVM_labeled(kernel_ami, target, subjects, \n",
    "                        idx_lmci_emci, penalty = 0.1)\n",
    "\n",
    "print('LMCI vs EMCI : {} +- {}'.format(auc.mean(), auc.std()))"
   ]
  },
  {
   "cell_type": "code",
   "execution_count": null,
   "metadata": {
    "collapsed": true
   },
   "outputs": [],
   "source": []
  },
  {
   "cell_type": "code",
   "execution_count": null,
   "metadata": {
    "collapsed": true
   },
   "outputs": [],
   "source": []
  },
  {
   "cell_type": "code",
   "execution_count": 15,
   "metadata": {},
   "outputs": [
    {
     "name": "stdout",
     "output_type": "stream",
     "text": [
      "Done 96.815 sec\n",
      "AD vs EMCI : 0.7037704918032788\n",
      "{'Kernel Parameter': 0.3, 'SVC Parameter': 10.0}\n"
     ]
    }
   ],
   "source": [
    "\n",
    "\n",
    "idx_lmci_nc = (data.target == 'LMCI').values + (data.target == 'Normal').values\n",
    "\n",
    "train_auc_mean, train_auc_std, best_params, i, j = grid_search(kernel, target, subjects,\n",
    "                                                               idx_lmci_nc, kernel = 'exp')\n",
    "print('AD vs EMCI : {}'.format(train_auc_mean[i,j]))\n",
    "print(best_params)\n",
    "\n"
   ]
  },
  {
   "cell_type": "code",
   "execution_count": null,
   "metadata": {
    "collapsed": true
   },
   "outputs": [],
   "source": []
  },
  {
   "cell_type": "code",
   "execution_count": null,
   "metadata": {
    "collapsed": true
   },
   "outputs": [],
   "source": []
  },
  {
   "cell_type": "code",
   "execution_count": null,
   "metadata": {
    "collapsed": true
   },
   "outputs": [],
   "source": []
  },
  {
   "cell_type": "code",
   "execution_count": 18,
   "metadata": {},
   "outputs": [
    {
     "name": "stdout",
     "output_type": "stream",
     "text": [
      "LMCI vs NC : 0.6156393442622952 +- 0.02295789703523757\n"
     ]
    }
   ],
   "source": [
    "idx_lmci_nc = (data.target == 'LMCI').values + (data.target == 'Normal').values\n",
    "\n",
    "kernel_ami = make_exp_kernel(kernel[idx_lmci_nc, :][:, idx_lmci_nc], 0.01)\n",
    "\n",
    "\n",
    "auc = repeatSVM_labeled(kernel_ami, target, subjects, \n",
    "                        idx_lmci_nc, penalty = 0.01)\n",
    "\n",
    "print('LMCI vs NC : {} +- {}'.format(auc.mean(), auc.std()))"
   ]
  },
  {
   "cell_type": "code",
   "execution_count": null,
   "metadata": {
    "collapsed": true
   },
   "outputs": [],
   "source": []
  },
  {
   "cell_type": "code",
   "execution_count": 16,
   "metadata": {},
   "outputs": [
    {
     "name": "stdout",
     "output_type": "stream",
     "text": [
      "Done 148.583 sec\n",
      "AD vs EMCI : 0.6768401639344261\n",
      "{'Kernel Parameter': 5, 'SVC Parameter': 10.0}\n"
     ]
    }
   ],
   "source": [
    "\n",
    "\n",
    "idx_emci_nc = (data.target == 'EMCI').values + (data.target == 'Normal').values\n",
    "\n",
    "train_auc_mean, train_auc_std, best_params, i, j = grid_search(kernel, target, subjects,\n",
    "                                                               idx_emci_nc, kernel = 'exp')\n",
    "print('AD vs EMCI : {}'.format(train_auc_mean[i,j]))\n",
    "print(best_params)\n",
    "\n"
   ]
  },
  {
   "cell_type": "code",
   "execution_count": null,
   "metadata": {
    "collapsed": true
   },
   "outputs": [],
   "source": []
  },
  {
   "cell_type": "code",
   "execution_count": 19,
   "metadata": {},
   "outputs": [
    {
     "name": "stdout",
     "output_type": "stream",
     "text": [
      "EMCI vs NC : 0.6545696721311477 +- 0.019676197069572837\n"
     ]
    }
   ],
   "source": [
    "idx_emci_nc = (data.target == 'EMCI').values + (data.target == 'Normal').values\n",
    "\n",
    "kernel_ami = make_exp_kernel(kernel[idx_emci_nc, :][:, idx_emci_nc], 0.1)\n",
    "\n",
    "\n",
    "auc = repeatSVM_labeled(kernel_ami, target, subjects, \n",
    "                        idx_emci_nc, penalty = 10)\n",
    "\n",
    "print('EMCI vs NC : {} +- {}'.format(auc.mean(), auc.std()))"
   ]
  },
  {
   "cell_type": "code",
   "execution_count": null,
   "metadata": {
    "collapsed": true
   },
   "outputs": [],
   "source": []
  },
  {
   "cell_type": "code",
   "execution_count": null,
   "metadata": {
    "collapsed": true
   },
   "outputs": [],
   "source": []
  },
  {
   "cell_type": "code",
   "execution_count": null,
   "metadata": {
    "collapsed": true
   },
   "outputs": [],
   "source": []
  },
  {
   "cell_type": "code",
   "execution_count": null,
   "metadata": {
    "collapsed": true
   },
   "outputs": [],
   "source": []
  },
  {
   "cell_type": "code",
   "execution_count": 20,
   "metadata": {},
   "outputs": [],
   "source": [
    "data_meta = data.drop('matrix', axis=1)"
   ]
  },
  {
   "cell_type": "code",
   "execution_count": 22,
   "metadata": {},
   "outputs": [],
   "source": [
    "data_meta.to_csv('meta.csv')"
   ]
  },
  {
   "cell_type": "code",
   "execution_count": null,
   "metadata": {
    "collapsed": true
   },
   "outputs": [],
   "source": []
  }
 ],
 "metadata": {
  "kernelspec": {
   "display_name": "Python 3",
   "language": "python",
   "name": "python3"
  },
  "language_info": {
   "codemirror_mode": {
    "name": "ipython",
    "version": 3
   },
   "file_extension": ".py",
   "mimetype": "text/x-python",
   "name": "python",
   "nbconvert_exporter": "python",
   "pygments_lexer": "ipython3",
   "version": "3.6.1"
  }
 },
 "nbformat": 4,
 "nbformat_minor": 2
}
