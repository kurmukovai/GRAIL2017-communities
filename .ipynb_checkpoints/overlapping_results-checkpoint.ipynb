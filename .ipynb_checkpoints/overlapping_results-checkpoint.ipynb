{
 "cells": [
  {
   "cell_type": "code",
   "execution_count": 1,
   "metadata": {
    "collapsed": true
   },
   "outputs": [],
   "source": [
    "import numpy as np\n",
    "import pickle\n",
    "from model_evaluation import grid_search"
   ]
  },
  {
   "cell_type": "code",
   "execution_count": 2,
   "metadata": {
    "collapsed": true
   },
   "outputs": [],
   "source": [
    "target = np.genfromtxt('target')\n",
    "subjects = np.genfromtxt('subjects')\n",
    "idx_ad_nc = np.genfromtxt('idx_ad_nc')\n",
    "idx_ad_nc = np.where(idx_ad_nc == 1, True, False)"
   ]
  },
  {
   "cell_type": "code",
   "execution_count": 4,
   "metadata": {
    "collapsed": false
   },
   "outputs": [],
   "source": [
    "with open('precomputed_kernels/NMImax_6_25', 'rb') as f:\n",
    "    best_ovp_kernel = pickle.load(f)"
   ]
  },
  {
   "cell_type": "code",
   "execution_count": null,
   "metadata": {
    "collapsed": false
   },
   "outputs": [],
   "source": [
    "# Choosing model parameters\n",
    "\n",
    "train_auc_mean, train_auc_std, best_params, i, j = grid_search(best_ovp_kernel, target, subjects,\n",
    "                                                               idx_ad_nc, kernel = 'exp', exact_matrix=True)\n",
    "print('AD vs NC : {}'.format(train_auc_mean[i,j]))\n",
    "print(best_params)"
   ]
  },
  {
   "cell_type": "code",
   "execution_count": null,
   "metadata": {
    "collapsed": true
   },
   "outputs": [],
   "source": []
  }
 ],
 "metadata": {
  "kernelspec": {
   "display_name": "Python [default]",
   "language": "python",
   "name": "python3"
  },
  "language_info": {
   "codemirror_mode": {
    "name": "ipython",
    "version": 3
   },
   "file_extension": ".py",
   "mimetype": "text/x-python",
   "name": "python",
   "nbconvert_exporter": "python",
   "pygments_lexer": "ipython3",
   "version": "3.5.2"
  }
 },
 "nbformat": 4,
 "nbformat_minor": 2
}
